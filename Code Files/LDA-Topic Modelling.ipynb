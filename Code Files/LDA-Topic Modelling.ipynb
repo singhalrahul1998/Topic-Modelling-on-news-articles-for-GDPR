{
 "cells": [
  {
   "cell_type": "code",
   "execution_count": 1,
   "metadata": {},
   "outputs": [],
   "source": [
    "import pandas as pd\n",
    "data = pd.read_csv('abcnews-date-text.csv', error_bad_lines=False);\n",
    "data_text = data[['headline_text']]\n",
    "data_text['index'] = data_text.index\n",
    "documents = data_text"
   ]
  },
  {
   "cell_type": "code",
   "execution_count": 2,
   "metadata": {},
   "outputs": [
    {
     "name": "stdout",
     "output_type": "stream",
     "text": [
      "1186018\n"
     ]
    }
   ],
   "source": [
    "print(len(documents))"
   ]
  },
  {
   "cell_type": "code",
   "execution_count": 3,
   "metadata": {},
   "outputs": [
    {
     "name": "stdout",
     "output_type": "stream",
     "text": [
      "                                             headline_text    index\n",
      "0        aba decides against community broadcasting lic...        0\n",
      "1           act fire witnesses must be aware of defamation        1\n",
      "2           a g calls for infrastructure protection summit        2\n",
      "3                 air nz staff in aust strike for pay rise        3\n",
      "4            air nz strike to affect australian travellers        4\n",
      "...                                                    ...      ...\n",
      "1186013  vision of flames approaching corryong in victoria  1186013\n",
      "1186014  wa police and government backflip on drug amne...  1186014\n",
      "1186015  we have fears for their safety: victorian premier  1186015\n",
      "1186016                              when do the 20s start  1186016\n",
      "1186017  yarraville shooting woman dead man critically ...  1186017\n",
      "\n",
      "[1186018 rows x 2 columns]\n"
     ]
    }
   ],
   "source": [
    "print(documents)"
   ]
  },
  {
   "cell_type": "code",
   "execution_count": 4,
   "metadata": {},
   "outputs": [
    {
     "name": "stderr",
     "output_type": "stream",
     "text": [
      "[nltk_data] Downloading package wordnet to\n",
      "[nltk_data]     C:\\Users\\LENOVO\\AppData\\Roaming\\nltk_data...\n",
      "[nltk_data]   Package wordnet is already up-to-date!\n"
     ]
    },
    {
     "data": {
      "text/plain": [
       "True"
      ]
     },
     "execution_count": 4,
     "metadata": {},
     "output_type": "execute_result"
    }
   ],
   "source": [
    "#Data_PreProcessing_Starts_Here\n",
    "import gensim\n",
    "from gensim.utils import simple_preprocess\n",
    "from gensim.parsing.preprocessing import STOPWORDS\n",
    "from nltk.stem import WordNetLemmatizer, SnowballStemmer\n",
    "from nltk.stem.porter import *\n",
    "import numpy as np\n",
    "np.random.seed(2018)\n",
    "\n",
    "\n",
    "import nltk\n",
    "nltk.download('wordnet')"
   ]
  },
  {
   "cell_type": "code",
   "execution_count": 5,
   "metadata": {},
   "outputs": [
    {
     "name": "stdout",
     "output_type": "stream",
     "text": [
      "go\n"
     ]
    }
   ],
   "source": [
    "#Lemmitization Example\n",
    "print(WordNetLemmatizer().lemmatize('went', pos='v'))"
   ]
  },
  {
   "cell_type": "code",
   "execution_count": 6,
   "metadata": {},
   "outputs": [
    {
     "data": {
      "text/html": [
       "<div>\n",
       "<style scoped>\n",
       "    .dataframe tbody tr th:only-of-type {\n",
       "        vertical-align: middle;\n",
       "    }\n",
       "\n",
       "    .dataframe tbody tr th {\n",
       "        vertical-align: top;\n",
       "    }\n",
       "\n",
       "    .dataframe thead th {\n",
       "        text-align: right;\n",
       "    }\n",
       "</style>\n",
       "<table border=\"1\" class=\"dataframe\">\n",
       "  <thead>\n",
       "    <tr style=\"text-align: right;\">\n",
       "      <th></th>\n",
       "      <th>original word</th>\n",
       "      <th>stemmed</th>\n",
       "    </tr>\n",
       "  </thead>\n",
       "  <tbody>\n",
       "    <tr>\n",
       "      <th>0</th>\n",
       "      <td>caresses</td>\n",
       "      <td>caress</td>\n",
       "    </tr>\n",
       "    <tr>\n",
       "      <th>1</th>\n",
       "      <td>flies</td>\n",
       "      <td>fli</td>\n",
       "    </tr>\n",
       "    <tr>\n",
       "      <th>2</th>\n",
       "      <td>dies</td>\n",
       "      <td>die</td>\n",
       "    </tr>\n",
       "    <tr>\n",
       "      <th>3</th>\n",
       "      <td>mules</td>\n",
       "      <td>mule</td>\n",
       "    </tr>\n",
       "    <tr>\n",
       "      <th>4</th>\n",
       "      <td>denied</td>\n",
       "      <td>deni</td>\n",
       "    </tr>\n",
       "    <tr>\n",
       "      <th>5</th>\n",
       "      <td>died</td>\n",
       "      <td>die</td>\n",
       "    </tr>\n",
       "    <tr>\n",
       "      <th>6</th>\n",
       "      <td>agreed</td>\n",
       "      <td>agre</td>\n",
       "    </tr>\n",
       "    <tr>\n",
       "      <th>7</th>\n",
       "      <td>owned</td>\n",
       "      <td>own</td>\n",
       "    </tr>\n",
       "    <tr>\n",
       "      <th>8</th>\n",
       "      <td>humbled</td>\n",
       "      <td>humbl</td>\n",
       "    </tr>\n",
       "    <tr>\n",
       "      <th>9</th>\n",
       "      <td>sized</td>\n",
       "      <td>size</td>\n",
       "    </tr>\n",
       "    <tr>\n",
       "      <th>10</th>\n",
       "      <td>meeting</td>\n",
       "      <td>meet</td>\n",
       "    </tr>\n",
       "    <tr>\n",
       "      <th>11</th>\n",
       "      <td>stating</td>\n",
       "      <td>state</td>\n",
       "    </tr>\n",
       "    <tr>\n",
       "      <th>12</th>\n",
       "      <td>siezing</td>\n",
       "      <td>siez</td>\n",
       "    </tr>\n",
       "    <tr>\n",
       "      <th>13</th>\n",
       "      <td>itemization</td>\n",
       "      <td>item</td>\n",
       "    </tr>\n",
       "    <tr>\n",
       "      <th>14</th>\n",
       "      <td>sensational</td>\n",
       "      <td>sensat</td>\n",
       "    </tr>\n",
       "    <tr>\n",
       "      <th>15</th>\n",
       "      <td>traditional</td>\n",
       "      <td>tradit</td>\n",
       "    </tr>\n",
       "    <tr>\n",
       "      <th>16</th>\n",
       "      <td>reference</td>\n",
       "      <td>refer</td>\n",
       "    </tr>\n",
       "    <tr>\n",
       "      <th>17</th>\n",
       "      <td>colonizer</td>\n",
       "      <td>colon</td>\n",
       "    </tr>\n",
       "    <tr>\n",
       "      <th>18</th>\n",
       "      <td>plotted</td>\n",
       "      <td>plot</td>\n",
       "    </tr>\n",
       "  </tbody>\n",
       "</table>\n",
       "</div>"
      ],
      "text/plain": [
       "   original word stemmed\n",
       "0       caresses  caress\n",
       "1          flies     fli\n",
       "2           dies     die\n",
       "3          mules    mule\n",
       "4         denied    deni\n",
       "5           died     die\n",
       "6         agreed    agre\n",
       "7          owned     own\n",
       "8        humbled   humbl\n",
       "9          sized    size\n",
       "10       meeting    meet\n",
       "11       stating   state\n",
       "12       siezing    siez\n",
       "13   itemization    item\n",
       "14   sensational  sensat\n",
       "15   traditional  tradit\n",
       "16     reference   refer\n",
       "17     colonizer   colon\n",
       "18       plotted    plot"
      ]
     },
     "execution_count": 6,
     "metadata": {},
     "output_type": "execute_result"
    }
   ],
   "source": [
    "#Stemming Example\n",
    "stemmer = SnowballStemmer('english')\n",
    "original_words = ['caresses', 'flies', 'dies', 'mules', 'denied','died', 'agreed', 'owned', \n",
    "           'humbled', 'sized','meeting', 'stating', 'siezing', 'itemization','sensational', \n",
    "           'traditional', 'reference', 'colonizer','plotted']\n",
    "singles = [stemmer.stem(plural) for plural in original_words]\n",
    "pd.DataFrame(data = {'original word': original_words, 'stemmed': singles})"
   ]
  },
  {
   "cell_type": "code",
   "execution_count": 7,
   "metadata": {},
   "outputs": [],
   "source": [
    "def lemmatize_stemming(text):\n",
    "    return stemmer.stem(WordNetLemmatizer().lemmatize(text, pos='v'))\n",
    "\n",
    "def preprocess(text):\n",
    "    result = []\n",
    "    for token in gensim.utils.simple_preprocess(text):\n",
    "        if token not in gensim.parsing.preprocessing.STOPWORDS and len(token) > 3: #filtering with length less than 3\n",
    "            result.append(lemmatize_stemming(token))\n",
    "    return result"
   ]
  },
  {
   "cell_type": "code",
   "execution_count": 9,
   "metadata": {},
   "outputs": [
    {
     "name": "stdout",
     "output_type": "stream",
     "text": [
      "ratepayers group wants compulsory local govt voting\n",
      "original document: \n",
      "['ratepayers', 'group', 'wants', 'compulsory', 'local', 'govt', 'voting']\n",
      "\n",
      "\n",
      " tokenized and lemmatized document: \n",
      "['ratepay', 'group', 'want', 'compulsori', 'local', 'govt', 'vote']\n"
     ]
    }
   ],
   "source": [
    "doc_sample = documents[documents['index'] == 4310].values[0][0]\n",
    "print(doc_sample)\n",
    "print('original document: ')\n",
    "words = []\n",
    "for word in doc_sample.split(' '):\n",
    "    words.append(word)\n",
    "print(words)\n",
    "print('\\n\\n tokenized and lemmatized document: ')\n",
    "print(preprocess(doc_sample))\n"
   ]
  },
  {
   "cell_type": "code",
   "execution_count": 10,
   "metadata": {},
   "outputs": [],
   "source": [
    "processed_docs = documents['headline_text'].map(preprocess)"
   ]
  },
  {
   "cell_type": "code",
   "execution_count": 11,
   "metadata": {},
   "outputs": [
    {
     "data": {
      "text/plain": [
       "0            [decid, communiti, broadcast, licenc]\n",
       "1                               [wit, awar, defam]\n",
       "2           [call, infrastructur, protect, summit]\n",
       "3                      [staff, aust, strike, rise]\n",
       "4             [strike, affect, australian, travel]\n",
       "5               [ambiti, olsson, win, tripl, jump]\n",
       "6           [antic, delight, record, break, barca]\n",
       "7    [aussi, qualifi, stosur, wast, memphi, match]\n",
       "8            [aust, address, secur, council, iraq]\n",
       "9                         [australia, lock, timet]\n",
       "Name: headline_text, dtype: object"
      ]
     },
     "execution_count": 11,
     "metadata": {},
     "output_type": "execute_result"
    }
   ],
   "source": [
    "processed_docs[:10]"
   ]
  },
  {
   "cell_type": "code",
   "execution_count": 12,
   "metadata": {},
   "outputs": [],
   "source": [
    "#Bag_of_Words\n",
    "dictionary = gensim.corpora.Dictionary(processed_docs)"
   ]
  },
  {
   "cell_type": "code",
   "execution_count": 13,
   "metadata": {},
   "outputs": [
    {
     "name": "stdout",
     "output_type": "stream",
     "text": [
      "Dictionary(67118 unique tokens: ['broadcast', 'communiti', 'decid', 'licenc', 'awar']...)\n"
     ]
    }
   ],
   "source": [
    "print(dictionary)"
   ]
  },
  {
   "cell_type": "code",
   "execution_count": 14,
   "metadata": {},
   "outputs": [
    {
     "name": "stdout",
     "output_type": "stream",
     "text": [
      "Dictionary(14939 unique tokens: ['broadcast', 'communiti', 'decid', 'licenc', 'awar']...)\n"
     ]
    }
   ],
   "source": [
    "#Filtering_those_available_in_less_than_15_documents_and_in_less_than_50%_of_the_document.Last_keeing_100000_most_frequent\n",
    "dictionary.filter_extremes(no_below=15, no_above=0.5, keep_n=100000)\n",
    "print(dictionary)"
   ]
  },
  {
   "cell_type": "code",
   "execution_count": 15,
   "metadata": {},
   "outputs": [],
   "source": [
    "#count = 0\n",
    "#for k, v in dictionary.iteritems():\n",
    "#    print(k, v)\n",
    "#    count += 1\n",
    "#    if count > 10:\n",
    "#       break"
   ]
  },
  {
   "cell_type": "code",
   "execution_count": 16,
   "metadata": {},
   "outputs": [
    {
     "name": "stderr",
     "output_type": "stream",
     "text": [
      "IOPub data rate exceeded.\n",
      "The notebook server will temporarily stop sending output\n",
      "to the client in order to avoid crashing it.\n",
      "To change this limit, set the config variable\n",
      "`--NotebookApp.iopub_data_rate_limit`.\n",
      "\n",
      "Current values:\n",
      "NotebookApp.iopub_data_rate_limit=1000000.0 (bytes/sec)\n",
      "NotebookApp.rate_limit_window=3.0 (secs)\n",
      "\n"
     ]
    }
   ],
   "source": [
    "bow_corpus = [dictionary.doc2bow(doc) for doc in processed_docs]\n",
    "print(bow_corpus)"
   ]
  },
  {
   "cell_type": "code",
   "execution_count": 17,
   "metadata": {},
   "outputs": [
    {
     "name": "stdout",
     "output_type": "stream",
     "text": [
      "[(162, 1), (240, 1), (292, 1), (589, 1), (838, 1), (3567, 1), (3568, 1)]\n"
     ]
    }
   ],
   "source": [
    "print(bow_corpus[4310])"
   ]
  },
  {
   "cell_type": "code",
   "execution_count": 18,
   "metadata": {},
   "outputs": [
    {
     "name": "stdout",
     "output_type": "stream",
     "text": [
      "Word 162 (\"govt\") appears 1 time.\n",
      "Word 240 (\"group\") appears 1 time.\n",
      "Word 292 (\"vote\") appears 1 time.\n",
      "Word 589 (\"local\") appears 1 time.\n",
      "Word 838 (\"want\") appears 1 time.\n",
      "Word 3567 (\"compulsori\") appears 1 time.\n",
      "Word 3568 (\"ratepay\") appears 1 time.\n"
     ]
    }
   ],
   "source": [
    "bow_doc_4310 = bow_corpus[4310]\n",
    "\n",
    "for i in range(len(bow_doc_4310)):\n",
    "    print(\"Word {} (\\\"{}\\\") appears {} time.\".format(bow_doc_4310[i][0], \n",
    "                                                     dictionary[bow_doc_4310[i][0]], \n",
    "                                                     bow_doc_4310[i][1]))"
   ]
  },
  {
   "cell_type": "code",
   "execution_count": 19,
   "metadata": {},
   "outputs": [],
   "source": [
    "#TF-IDF starts here"
   ]
  },
  {
   "cell_type": "code",
   "execution_count": 20,
   "metadata": {},
   "outputs": [],
   "source": [
    "from gensim import corpora, models\n",
    "\n",
    "tfidf = models.TfidfModel(bow_corpus)"
   ]
  },
  {
   "cell_type": "code",
   "execution_count": 21,
   "metadata": {},
   "outputs": [],
   "source": [
    "corpus_tfidf = tfidf[bow_corpus]"
   ]
  },
  {
   "cell_type": "code",
   "execution_count": 22,
   "metadata": {},
   "outputs": [
    {
     "name": "stdout",
     "output_type": "stream",
     "text": [
      "[(0, 0.5850076620505259),\n",
      " (1, 0.38947256567331934),\n",
      " (2, 0.4997099083387053),\n",
      " (3, 0.5063271308533074)]\n"
     ]
    }
   ],
   "source": [
    "from pprint import pprint\n",
    "\n",
    "for doc in corpus_tfidf:\n",
    "    pprint(doc)\n",
    "    break"
   ]
  },
  {
   "cell_type": "code",
   "execution_count": 23,
   "metadata": {},
   "outputs": [],
   "source": [
    "#Running LDA using Bag of Words"
   ]
  },
  {
   "cell_type": "code",
   "execution_count": 29,
   "metadata": {},
   "outputs": [],
   "source": [
    "lda_model = gensim.models.LdaMulticore(bow_corpus, num_topics=20, id2word=dictionary, passes=2, workers=2)"
   ]
  },
  {
   "cell_type": "code",
   "execution_count": 33,
   "metadata": {},
   "outputs": [
    {
     "name": "stdout",
     "output_type": "stream",
     "text": [
      "Topic 0: broadcast  \n",
      "Words: 0.048*\"help\" + 0.046*\"live\" + 0.038*\"farmer\" + 0.030*\"break\" + 0.028*\"water\" + 0.028*\"drum\" + 0.025*\"need\" + 0.017*\"appeal\" + 0.017*\"plead\" + 0.017*\"monday\"\n",
      "Topic 1: communiti  \n",
      "Words: 0.051*\"nation\" + 0.040*\"tasmania\" + 0.032*\"speak\" + 0.031*\"interview\" + 0.030*\"case\" + 0.027*\"releas\" + 0.025*\"prison\" + 0.025*\"want\" + 0.024*\"park\" + 0.024*\"polit\"\n",
      "Topic 2: decid  \n",
      "Words: 0.048*\"news\" + 0.046*\"school\" + 0.031*\"work\" + 0.031*\"take\" + 0.028*\"student\" + 0.028*\"farm\" + 0.024*\"chines\" + 0.020*\"program\" + 0.019*\"lead\" + 0.017*\"action\"\n",
      "Topic 3: licenc  \n",
      "Words: 0.063*\"queensland\" + 0.040*\"health\" + 0.033*\"bushfir\" + 0.031*\"minist\" + 0.026*\"servic\" + 0.026*\"darwin\" + 0.024*\"beat\" + 0.023*\"scott\" + 0.022*\"find\" + 0.020*\"like\"\n",
      "Topic 4: awar  \n",
      "Words: 0.047*\"adelaid\" + 0.044*\"open\" + 0.029*\"street\" + 0.021*\"media\" + 0.020*\"australian\" + 0.019*\"head\" + 0.018*\"beach\" + 0.017*\"compani\" + 0.017*\"right\" + 0.017*\"mark\"\n",
      "Topic 5: defam  \n",
      "Words: 0.060*\"charg\" + 0.054*\"court\" + 0.049*\"murder\" + 0.036*\"face\" + 0.034*\"alleg\" + 0.032*\"jail\" + 0.031*\"accus\" + 0.027*\"peopl\" + 0.026*\"trial\" + 0.025*\"child\"\n",
      "Topic 6: wit  \n",
      "Words: 0.068*\"year\" + 0.064*\"sydney\" + 0.044*\"market\" + 0.032*\"protest\" + 0.029*\"brisban\" + 0.026*\"busi\" + 0.026*\"high\" + 0.025*\"price\" + 0.020*\"million\" + 0.020*\"stori\"\n",
      "Topic 7: call  \n",
      "Words: 0.059*\"world\" + 0.040*\"die\" + 0.031*\"crash\" + 0.031*\"record\" + 0.031*\"island\" + 0.022*\"climat\" + 0.021*\"make\" + 0.020*\"turnbul\" + 0.019*\"leagu\" + 0.019*\"race\"\n",
      "Topic 8: infrastructur  \n",
      "Words: 0.055*\"donald\" + 0.050*\"canberra\" + 0.040*\"miss\" + 0.035*\"indigen\" + 0.028*\"show\" + 0.025*\"presid\" + 0.025*\"search\" + 0.025*\"announc\" + 0.023*\"young\" + 0.022*\"continu\"\n",
      "Topic 9: protect  \n",
      "Words: 0.051*\"famili\" + 0.046*\"coast\" + 0.032*\"children\" + 0.031*\"gold\" + 0.031*\"deal\" + 0.025*\"leader\" + 0.024*\"centr\" + 0.023*\"violenc\" + 0.022*\"station\" + 0.018*\"friday\"\n",
      "Topic 10: summit  \n",
      "Words: 0.039*\"life\" + 0.033*\"train\" + 0.026*\"give\" + 0.025*\"green\" + 0.025*\"land\" + 0.020*\"defend\" + 0.019*\"russia\" + 0.019*\"light\" + 0.018*\"join\" + 0.018*\"properti\"\n",
      "Topic 11: aust  \n",
      "Words: 0.103*\"polic\" + 0.050*\"death\" + 0.040*\"woman\" + 0.040*\"home\" + 0.033*\"perth\" + 0.027*\"shoot\" + 0.027*\"royal\" + 0.025*\"rise\" + 0.025*\"investig\" + 0.021*\"road\"\n",
      "Topic 12: rise  \n",
      "Words: 0.039*\"power\" + 0.028*\"forc\" + 0.028*\"save\" + 0.027*\"build\" + 0.027*\"rescu\" + 0.026*\"look\" + 0.025*\"parliament\" + 0.021*\"bring\" + 0.018*\"protect\" + 0.018*\"youth\"\n",
      "Topic 13: staff  \n",
      "Words: 0.039*\"abus\" + 0.032*\"trade\" + 0.028*\"week\" + 0.026*\"hour\" + 0.026*\"season\" + 0.026*\"free\" + 0.025*\"weather\" + 0.024*\"go\" + 0.024*\"girl\" + 0.023*\"injur\"\n",
      "Topic 14: strike  \n",
      "Words: 0.055*\"govern\" + 0.046*\"melbourn\" + 0.041*\"hous\" + 0.030*\"feder\" + 0.027*\"time\" + 0.027*\"tasmanian\" + 0.026*\"countri\" + 0.025*\"lose\" + 0.023*\"victoria\" + 0.023*\"fall\"\n",
      "Topic 15: affect  \n",
      "Words: 0.060*\"kill\" + 0.054*\"report\" + 0.052*\"south\" + 0.045*\"north\" + 0.045*\"attack\" + 0.040*\"dead\" + 0.032*\"bank\" + 0.029*\"west\" + 0.022*\"turn\" + 0.020*\"korea\"\n",
      "Topic 16: australian  \n",
      "Words: 0.154*\"australia\" + 0.034*\"fight\" + 0.029*\"talk\" + 0.028*\"return\" + 0.025*\"final\" + 0.021*\"hold\" + 0.021*\"port\" + 0.019*\"play\" + 0.018*\"strike\" + 0.017*\"celebr\"\n",
      "Topic 17: travel  \n",
      "Words: 0.049*\"china\" + 0.040*\"warn\" + 0.022*\"citi\" + 0.022*\"victorian\" + 0.021*\"morrison\" + 0.021*\"wall\" + 0.021*\"reveal\" + 0.020*\"storm\" + 0.019*\"risk\" + 0.017*\"food\"\n",
      "Topic 18: ambiti  \n",
      "Words: 0.073*\"elect\" + 0.041*\"test\" + 0.034*\"labor\" + 0.030*\"claim\" + 0.027*\"commiss\" + 0.024*\"near\" + 0.023*\"liber\" + 0.022*\"parti\" + 0.020*\"campaign\" + 0.019*\"senat\"\n",
      "Topic 19: jump  \n",
      "Words: 0.043*\"plan\" + 0.033*\"chang\" + 0.032*\"rural\" + 0.030*\"fund\" + 0.030*\"council\" + 0.027*\"state\" + 0.024*\"industri\" + 0.023*\"concern\" + 0.022*\"region\" + 0.021*\"support\"\n"
     ]
    }
   ],
   "source": [
    "for idx, topic in lda_model.print_topics(-1):\n",
    "    print('Topic {}: {}  \\nWords: {}'.format(idx, dictionary[idx], topic))"
   ]
  },
  {
   "cell_type": "code",
   "execution_count": 34,
   "metadata": {},
   "outputs": [],
   "source": [
    "#Running LDA using TF-IDF"
   ]
  },
  {
   "cell_type": "code",
   "execution_count": 35,
   "metadata": {},
   "outputs": [],
   "source": [
    "lda_model_tfidf = gensim.models.LdaMulticore(corpus_tfidf, num_topics=10, id2word=dictionary, passes=2, workers=4)"
   ]
  },
  {
   "cell_type": "code",
   "execution_count": 42,
   "metadata": {},
   "outputs": [
    {
     "name": "stdout",
     "output_type": "stream",
     "text": [
      "Topic 0: broadcast \n",
      "Word: 0.019*\"donald\" + 0.013*\"guilti\" + 0.009*\"plead\" + 0.008*\"monday\" + 0.008*\"peopl\" + 0.007*\"insid\" + 0.007*\"know\" + 0.006*\"human\" + 0.006*\"spring\" + 0.006*\"decemb\"\n",
      "Topic 1: communiti \n",
      "Word: 0.009*\"michael\" + 0.009*\"scott\" + 0.008*\"juli\" + 0.008*\"hobart\" + 0.006*\"award\" + 0.006*\"june\" + 0.006*\"pacif\" + 0.006*\"america\" + 0.006*\"leagu\" + 0.005*\"brief\"\n",
      "Topic 2: decid \n",
      "Word: 0.020*\"countri\" + 0.015*\"hour\" + 0.015*\"drum\" + 0.010*\"climat\" + 0.009*\"tuesday\" + 0.008*\"search\" + 0.007*\"miss\" + 0.006*\"beach\" + 0.006*\"bodi\" + 0.006*\"ash\"\n",
      "Topic 3: licenc \n",
      "Word: 0.011*\"health\" + 0.008*\"fund\" + 0.007*\"friday\" + 0.007*\"servic\" + 0.006*\"budget\" + 0.006*\"sport\" + 0.006*\"care\" + 0.005*\"mental\" + 0.005*\"school\" + 0.005*\"say\"\n",
      "Topic 4: awar \n",
      "Word: 0.020*\"news\" + 0.015*\"rural\" + 0.013*\"elect\" + 0.010*\"nation\" + 0.006*\"vote\" + 0.006*\"fiji\" + 0.006*\"august\" + 0.006*\"septemb\" + 0.006*\"presid\" + 0.006*\"liber\"\n",
      "Topic 5: defam \n",
      "Word: 0.020*\"trump\" + 0.013*\"market\" + 0.009*\"price\" + 0.008*\"royal\" + 0.007*\"farmer\" + 0.007*\"commiss\" + 0.006*\"weather\" + 0.006*\"govern\" + 0.006*\"bushfir\" + 0.006*\"queensland\"\n",
      "Topic 6: wit \n",
      "Word: 0.016*\"charg\" + 0.016*\"crash\" + 0.013*\"polic\" + 0.012*\"woman\" + 0.010*\"murder\" + 0.010*\"die\" + 0.009*\"shoot\" + 0.008*\"alleg\" + 0.008*\"death\" + 0.007*\"court\"\n",
      "Topic 7: call \n",
      "Word: 0.014*\"interview\" + 0.011*\"australia\" + 0.010*\"world\" + 0.009*\"final\" + 0.008*\"live\" + 0.007*\"cricket\" + 0.007*\"christma\" + 0.006*\"grandstand\" + 0.006*\"test\" + 0.006*\"rugbi\"\n",
      "Topic 8: infrastructur \n",
      "Word: 0.012*\"stori\" + 0.010*\"kill\" + 0.007*\"protest\" + 0.007*\"attack\" + 0.007*\"andrew\" + 0.006*\"indonesia\" + 0.006*\"syria\" + 0.006*\"dead\" + 0.006*\"disabl\" + 0.006*\"quiz\"\n",
      "Topic 9: protect \n",
      "Word: 0.009*\"turnbul\" + 0.008*\"sentenc\" + 0.008*\"morrison\" + 0.007*\"abus\" + 0.007*\"thursday\" + 0.007*\"court\" + 0.006*\"inquest\" + 0.006*\"appeal\" + 0.006*\"hill\" + 0.006*\"polic\"\n"
     ]
    }
   ],
   "source": [
    "for idx, topic in lda_model_tfidf.print_topics(-1):\n",
    "    print('Topic {}: {} \\nWord: {}'.format(idx, dictionary[idx], topic))"
   ]
  },
  {
   "cell_type": "code",
   "execution_count": 38,
   "metadata": {},
   "outputs": [],
   "source": [
    "#Classification of the topics\n",
    "#Performance evaluation by classifying sample document using LDA Bag of Words model"
   ]
  },
  {
   "cell_type": "code",
   "execution_count": 43,
   "metadata": {},
   "outputs": [
    {
     "data": {
      "text/plain": [
       "['ratepay', 'group', 'want', 'compulsori', 'local', 'govt', 'vote']"
      ]
     },
     "execution_count": 43,
     "metadata": {},
     "output_type": "execute_result"
    }
   ],
   "source": [
    "processed_docs[4310]"
   ]
  },
  {
   "cell_type": "code",
   "execution_count": 47,
   "metadata": {},
   "outputs": [
    {
     "name": "stdout",
     "output_type": "stream",
     "text": [
      "\n",
      "Score: 0.6313902139663696\t \n",
      "Topic: 0.043*\"plan\" + 0.033*\"chang\" + 0.032*\"rural\" + 0.030*\"fund\" + 0.030*\"council\" + 0.027*\"state\" + 0.024*\"industri\" + 0.023*\"concern\" + 0.022*\"region\" + 0.021*\"support\" + 0.021*\"vote\"\n",
      "\n",
      "Score: 0.1312827616930008\t \n",
      "Topic: 0.051*\"nation\" + 0.040*\"tasmania\" + 0.032*\"speak\" + 0.031*\"interview\" + 0.030*\"case\" + 0.027*\"releas\" + 0.025*\"prison\" + 0.025*\"want\" + 0.024*\"park\" + 0.024*\"polit\" + 0.021*\"bodi\"\n",
      "\n",
      "Score: 0.13104446232318878\t \n",
      "Topic: 0.059*\"world\" + 0.040*\"die\" + 0.031*\"crash\" + 0.031*\"record\" + 0.031*\"island\" + 0.022*\"climat\" + 0.021*\"make\" + 0.020*\"turnbul\" + 0.019*\"leagu\" + 0.019*\"race\" + 0.017*\"law\"\n"
     ]
    }
   ],
   "source": [
    "for index, score in sorted(lda_model[bow_corpus[4310]], key=lambda tup: -1*tup[1]):\n",
    "    print(\"\\nScore: {}\\t \\nTopic: {}\".format(score, lda_model.print_topic(index, 11)))"
   ]
  },
  {
   "cell_type": "code",
   "execution_count": 48,
   "metadata": {},
   "outputs": [],
   "source": [
    "#Performance evaluation by classifying sample document using LDA TF-IDF model"
   ]
  },
  {
   "cell_type": "code",
   "execution_count": 52,
   "metadata": {},
   "outputs": [
    {
     "name": "stdout",
     "output_type": "stream",
     "text": [
      "\n",
      "Score: 0.37577593326568604\t \n",
      "Topic: 0.011*\"health\" + 0.008*\"fund\" + 0.007*\"friday\" + 0.007*\"servic\" + 0.006*\"budget\" + 0.006*\"sport\" + 0.006*\"care\" + 0.005*\"mental\" + 0.005*\"school\" + 0.005*\"say\" + 0.005*\"plan\"\n",
      "\n",
      "Score: 0.22491025924682617\t \n",
      "Topic: 0.020*\"trump\" + 0.013*\"market\" + 0.009*\"price\" + 0.008*\"royal\" + 0.007*\"farmer\" + 0.007*\"commiss\" + 0.006*\"weather\" + 0.006*\"govern\" + 0.006*\"bushfir\" + 0.006*\"queensland\" + 0.006*\"busi\"\n",
      "\n",
      "Score: 0.1806265413761139\t \n",
      "Topic: 0.019*\"donald\" + 0.013*\"guilti\" + 0.009*\"plead\" + 0.008*\"monday\" + 0.008*\"peopl\" + 0.007*\"insid\" + 0.007*\"know\" + 0.006*\"human\" + 0.006*\"spring\" + 0.006*\"decemb\" + 0.005*\"right\"\n",
      "\n",
      "Score: 0.14364171028137207\t \n",
      "Topic: 0.020*\"news\" + 0.015*\"rural\" + 0.013*\"elect\" + 0.010*\"nation\" + 0.006*\"vote\" + 0.006*\"fiji\" + 0.006*\"august\" + 0.006*\"septemb\" + 0.006*\"presid\" + 0.006*\"liber\" + 0.006*\"jam\"\n",
      "\n",
      "Score: 0.012508916668593884\t \n",
      "Topic: 0.009*\"michael\" + 0.009*\"scott\" + 0.008*\"juli\" + 0.008*\"hobart\" + 0.006*\"award\" + 0.006*\"june\" + 0.006*\"pacif\" + 0.006*\"america\" + 0.006*\"leagu\" + 0.005*\"brief\" + 0.005*\"smith\"\n",
      "\n",
      "Score: 0.01250775158405304\t \n",
      "Topic: 0.009*\"turnbul\" + 0.008*\"sentenc\" + 0.008*\"morrison\" + 0.007*\"abus\" + 0.007*\"thursday\" + 0.007*\"court\" + 0.006*\"inquest\" + 0.006*\"appeal\" + 0.006*\"hill\" + 0.006*\"polic\" + 0.006*\"prison\"\n",
      "\n",
      "Score: 0.012507734820246696\t \n",
      "Topic: 0.020*\"countri\" + 0.015*\"hour\" + 0.015*\"drum\" + 0.010*\"climat\" + 0.009*\"tuesday\" + 0.008*\"search\" + 0.007*\"miss\" + 0.006*\"beach\" + 0.006*\"bodi\" + 0.006*\"ash\" + 0.006*\"chang\"\n",
      "\n",
      "Score: 0.01250765286386013\t \n",
      "Topic: 0.012*\"stori\" + 0.010*\"kill\" + 0.007*\"protest\" + 0.007*\"attack\" + 0.007*\"andrew\" + 0.006*\"indonesia\" + 0.006*\"syria\" + 0.006*\"dead\" + 0.006*\"disabl\" + 0.006*\"quiz\" + 0.006*\"bomb\"\n",
      "\n",
      "Score: 0.01250679511576891\t \n",
      "Topic: 0.016*\"charg\" + 0.016*\"crash\" + 0.013*\"polic\" + 0.012*\"woman\" + 0.010*\"murder\" + 0.010*\"die\" + 0.009*\"shoot\" + 0.008*\"alleg\" + 0.008*\"death\" + 0.007*\"court\" + 0.007*\"wednesday\"\n",
      "\n",
      "Score: 0.012506711296737194\t \n",
      "Topic: 0.014*\"interview\" + 0.011*\"australia\" + 0.010*\"world\" + 0.009*\"final\" + 0.008*\"live\" + 0.007*\"cricket\" + 0.007*\"christma\" + 0.006*\"grandstand\" + 0.006*\"test\" + 0.006*\"rugbi\" + 0.005*\"histori\"\n"
     ]
    }
   ],
   "source": [
    "for index, score in sorted(lda_model_tfidf[bow_corpus[4310]], key=lambda tup: -1*tup[1]):\n",
    "    print(\"\\nScore: {}\\t \\nTopic: {}\".format(score, lda_model_tfidf.print_topic(index, 11)))"
   ]
  },
  {
   "cell_type": "code",
   "execution_count": 53,
   "metadata": {},
   "outputs": [],
   "source": [
    "#Testing model on unseen document"
   ]
  },
  {
   "cell_type": "code",
   "execution_count": 54,
   "metadata": {},
   "outputs": [
    {
     "name": "stdout",
     "output_type": "stream",
     "text": [
      "Score: 0.21005107462406158\t Topic: 0.051*\"famili\" + 0.046*\"coast\" + 0.032*\"children\" + 0.031*\"gold\" + 0.031*\"deal\"\n",
      "Score: 0.21004332602024078\t Topic: 0.059*\"world\" + 0.040*\"die\" + 0.031*\"crash\" + 0.031*\"record\" + 0.031*\"island\"\n",
      "Score: 0.20999836921691895\t Topic: 0.051*\"nation\" + 0.040*\"tasmania\" + 0.032*\"speak\" + 0.031*\"interview\" + 0.030*\"case\"\n",
      "Score: 0.20986396074295044\t Topic: 0.060*\"kill\" + 0.054*\"report\" + 0.052*\"south\" + 0.045*\"north\" + 0.045*\"attack\"\n",
      "Score: 0.010002706199884415\t Topic: 0.048*\"help\" + 0.046*\"live\" + 0.038*\"farmer\" + 0.030*\"break\" + 0.028*\"water\"\n",
      "Score: 0.010002706199884415\t Topic: 0.048*\"news\" + 0.046*\"school\" + 0.031*\"work\" + 0.031*\"take\" + 0.028*\"student\"\n",
      "Score: 0.010002706199884415\t Topic: 0.063*\"queensland\" + 0.040*\"health\" + 0.033*\"bushfir\" + 0.031*\"minist\" + 0.026*\"servic\"\n",
      "Score: 0.010002706199884415\t Topic: 0.047*\"adelaid\" + 0.044*\"open\" + 0.029*\"street\" + 0.021*\"media\" + 0.020*\"australian\"\n",
      "Score: 0.010002706199884415\t Topic: 0.060*\"charg\" + 0.054*\"court\" + 0.049*\"murder\" + 0.036*\"face\" + 0.034*\"alleg\"\n",
      "Score: 0.010002706199884415\t Topic: 0.068*\"year\" + 0.064*\"sydney\" + 0.044*\"market\" + 0.032*\"protest\" + 0.029*\"brisban\"\n",
      "Score: 0.010002706199884415\t Topic: 0.055*\"donald\" + 0.050*\"canberra\" + 0.040*\"miss\" + 0.035*\"indigen\" + 0.028*\"show\"\n",
      "Score: 0.010002706199884415\t Topic: 0.039*\"life\" + 0.033*\"train\" + 0.026*\"give\" + 0.025*\"green\" + 0.025*\"land\"\n",
      "Score: 0.010002706199884415\t Topic: 0.103*\"polic\" + 0.050*\"death\" + 0.040*\"woman\" + 0.040*\"home\" + 0.033*\"perth\"\n",
      "Score: 0.010002706199884415\t Topic: 0.039*\"power\" + 0.028*\"forc\" + 0.028*\"save\" + 0.027*\"build\" + 0.027*\"rescu\"\n",
      "Score: 0.010002706199884415\t Topic: 0.039*\"abus\" + 0.032*\"trade\" + 0.028*\"week\" + 0.026*\"hour\" + 0.026*\"season\"\n",
      "Score: 0.010002706199884415\t Topic: 0.055*\"govern\" + 0.046*\"melbourn\" + 0.041*\"hous\" + 0.030*\"feder\" + 0.027*\"time\"\n",
      "Score: 0.010002706199884415\t Topic: 0.154*\"australia\" + 0.034*\"fight\" + 0.029*\"talk\" + 0.028*\"return\" + 0.025*\"final\"\n",
      "Score: 0.010002706199884415\t Topic: 0.049*\"china\" + 0.040*\"warn\" + 0.022*\"citi\" + 0.022*\"victorian\" + 0.021*\"morrison\"\n",
      "Score: 0.010002706199884415\t Topic: 0.073*\"elect\" + 0.041*\"test\" + 0.034*\"labor\" + 0.030*\"claim\" + 0.027*\"commiss\"\n",
      "Score: 0.010002706199884415\t Topic: 0.043*\"plan\" + 0.033*\"chang\" + 0.032*\"rural\" + 0.030*\"fund\" + 0.030*\"council\"\n"
     ]
    }
   ],
   "source": [
    "unseen_document = 'How a Pentagon deal became an identity crisis for Google'\n",
    "bow_vector = dictionary.doc2bow(preprocess(unseen_document))\n",
    "\n",
    "for index, score in sorted(lda_model[bow_vector], key=lambda tup: -1*tup[1]):\n",
    "    print(\"Score: {}\\t Topic: {}\".format(score, lda_model.print_topic(index, 5)))"
   ]
  },
  {
   "cell_type": "code",
   "execution_count": null,
   "metadata": {},
   "outputs": [],
   "source": []
  }
 ],
 "metadata": {
  "kernelspec": {
   "display_name": "Python 3",
   "language": "python",
   "name": "python3"
  },
  "language_info": {
   "codemirror_mode": {
    "name": "ipython",
    "version": 3
   },
   "file_extension": ".py",
   "mimetype": "text/x-python",
   "name": "python",
   "nbconvert_exporter": "python",
   "pygments_lexer": "ipython3",
   "version": "3.7.6"
  }
 },
 "nbformat": 4,
 "nbformat_minor": 4
}
